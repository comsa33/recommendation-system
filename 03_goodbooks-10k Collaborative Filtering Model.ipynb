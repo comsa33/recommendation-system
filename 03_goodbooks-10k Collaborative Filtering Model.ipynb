{
 "cells": [
  {
   "cell_type": "code",
   "execution_count": 1,
   "id": "1ea0aa0d-163e-4d71-9da1-ce829be10b5d",
   "metadata": {},
   "outputs": [],
   "source": [
    "import pandas as pd\n",
    "import numpy as np\n",
    "import os, sys, gc"
   ]
  },
  {
   "cell_type": "code",
   "execution_count": 2,
   "id": "61fb0992-16ee-4835-8c2c-1c4350e5a396",
   "metadata": {},
   "outputs": [],
   "source": [
    "path = './t-academy-data/'"
   ]
  },
  {
   "cell_type": "code",
   "execution_count": 3,
   "id": "0b533174-b21b-4be9-a429-0c8979ea6025",
   "metadata": {},
   "outputs": [],
   "source": [
    "books = pd.read_csv(path+\"books.csv\")\n",
    "book_tags = pd.read_csv(path+\"book_tags.csv\")\n",
    "train = pd.read_csv(path+\"train.csv\")\n",
    "test = pd.read_csv(path+\"test.csv\")\n",
    "tags = pd.read_csv(path+\"tags.csv\")\n",
    "to_read = pd.read_csv(path+\"to_read.csv\")"
   ]
  },
  {
   "cell_type": "code",
   "execution_count": 4,
   "id": "ce8bf456-f365-4898-a630-7dcfb93bb6de",
   "metadata": {},
   "outputs": [],
   "source": [
    "train['book_id'] = train['book_id'].astype(str)\n",
    "test['book_id'] = test['book_id'].astype(str)\n",
    "books['book_id'] = books['book_id'].astype(str)"
   ]
  },
  {
   "cell_type": "code",
   "execution_count": 5,
   "id": "a084afbb-182e-41e7-ba4f-8f8ac2a0f758",
   "metadata": {},
   "outputs": [],
   "source": [
    "popular_rec_model = books.sort_values(by='books_count', ascending=False)['book_id'].values[:500]"
   ]
  },
  {
   "cell_type": "code",
   "execution_count": 6,
   "id": "230d634e-d399-4716-bb05-cc7f723f3a4d",
   "metadata": {},
   "outputs": [],
   "source": [
    "sol = test.groupby(['user_id'])['book_id'].agg({'unique'}).reset_index() "
   ]
  },
  {
   "cell_type": "code",
   "execution_count": 7,
   "id": "59e62d8d-a6ac-4e0e-ab60-4bbb3832c67c",
   "metadata": {},
   "outputs": [],
   "source": [
    "gt = {}\n",
    "for user in sol['user_id'].unique():\n",
    "    gt[user] = sol[sol['user_id'] == user]['unique'].values[0].tolist()"
   ]
  },
  {
   "cell_type": "code",
   "execution_count": 8,
   "id": "330f7771-53e3-4588-8e34-aaacba65c207",
   "metadata": {},
   "outputs": [],
   "source": [
    "rec_df = pd.DataFrame()\n",
    "rec_df['user_id'] = train['user_id'].unique()"
   ]
  },
  {
   "cell_type": "code",
   "execution_count": 9,
   "id": "41a3516e-85d8-4a47-aa88-692dcbe841f0",
   "metadata": {},
   "outputs": [],
   "source": [
    "user2idx = {}\n",
    "for i, user in enumerate(train['user_id'].unique()):\n",
    "    user2idx[user] = i\n",
    "\n",
    "book2idx = {}\n",
    "for i, book in enumerate(train['book_id'].unique()):\n",
    "    book2idx[book] = i"
   ]
  },
  {
   "cell_type": "code",
   "execution_count": 10,
   "id": "086e9c65-6343-42da-adfc-7ef3b1fb6a4b",
   "metadata": {},
   "outputs": [],
   "source": [
    "idx2user = {i: user for user, i in user2idx.items()}\n",
    "idx2book = {i: book for book, i in book2idx.items()}"
   ]
  },
  {
   "cell_type": "code",
   "execution_count": 11,
   "id": "6fc9ccea-2d00-4d95-b557-eebf04bda4a3",
   "metadata": {},
   "outputs": [],
   "source": [
    "data = train[['user_id', 'book_id']].reset_index(drop=True)\n",
    "useridx = data['user_id'] = train['user_id'].apply(lambda x: user2idx[x]).values\n",
    "bookidx = data['book_id'] = train['book_id'].apply(lambda x: book2idx[x]).values\n",
    "rating = np.ones(len(data))"
   ]
  },
  {
   "cell_type": "code",
   "execution_count": 12,
   "id": "91114867-2022-4a2a-aae1-ce7d4589a86f",
   "metadata": {},
   "outputs": [],
   "source": [
    "from scipy import sparse\n",
    "\n",
    "purchase_sparse = sparse.csr_matrix((rating, (useridx, bookidx)), shape=(len(set(useridx)), len(set(bookidx))))"
   ]
  },
  {
   "cell_type": "code",
   "execution_count": 13,
   "id": "447eaa58-b501-48dc-97da-fa4e3b3ad173",
   "metadata": {},
   "outputs": [],
   "source": [
    "R = purchase_sparse.toarray()"
   ]
  },
  {
   "cell_type": "markdown",
   "id": "84d92709-d473-4a75-92e4-cdb5abaf5f43",
   "metadata": {},
   "source": [
    "# ALS 협업필터링"
   ]
  },
  {
   "cell_type": "code",
   "execution_count": 14,
   "id": "5b20c709-1075-42bb-ad5e-22ff10a6339a",
   "metadata": {},
   "outputs": [
    {
     "name": "stderr",
     "output_type": "stream",
     "text": [
      "C:\\Users\\user\\anaconda3\\envs\\rec-sys\\lib\\site-packages\\tqdm\\auto.py:22: TqdmWarning: IProgress not found. Please update jupyter and ipywidgets. See https://ipywidgets.readthedocs.io/en/stable/user_install.html\n",
      "  from .autonotebook import tqdm as notebook_tqdm\n"
     ]
    }
   ],
   "source": [
    "from implicit.evaluation import *\n",
    "from implicit.als import AlternatingLeastSquares as ALS\n",
    "from implicit.bpr import BayesianPersonalizedRanking as BPR"
   ]
  },
  {
   "cell_type": "code",
   "execution_count": 15,
   "id": "a672c20b-2a7b-4189-8400-f717454a8aaf",
   "metadata": {},
   "outputs": [
    {
     "name": "stderr",
     "output_type": "stream",
     "text": [
      "100%|██████████| 100/100 [00:55<00:00,  1.79it/s]\n"
     ]
    }
   ],
   "source": [
    "als_model = ALS(factors=20, regularization=0.01, iterations=100)\n",
    "als_model.fit(purchase_sparse.T)"
   ]
  },
  {
   "cell_type": "code",
   "execution_count": 21,
   "id": "ef484084-84ad-415e-b900-b76844f1b6d7",
   "metadata": {},
   "outputs": [
    {
     "ename": "ValueError",
     "evalue": "user_items must contain 1 row for every user in userids",
     "output_type": "error",
     "traceback": [
      "\u001b[1;31m---------------------------------------------------------------------------\u001b[0m",
      "\u001b[1;31mValueError\u001b[0m                                Traceback (most recent call last)",
      "Input \u001b[1;32mIn [21]\u001b[0m, in \u001b[0;36m<cell line: 1>\u001b[1;34m()\u001b[0m\n\u001b[1;32m----> 1\u001b[0m \u001b[43mals_model\u001b[49m\u001b[38;5;241;43m.\u001b[39;49m\u001b[43mrecommend\u001b[49m\u001b[43m(\u001b[49m\u001b[38;5;241;43m0\u001b[39;49m\u001b[43m,\u001b[49m\u001b[43m \u001b[49m\u001b[43mpurchase_sparse\u001b[49m\u001b[43m,\u001b[49m\u001b[43m \u001b[49m\u001b[43mN\u001b[49m\u001b[38;5;241;43m=\u001b[39;49m\u001b[38;5;241;43m200\u001b[39;49m\u001b[43m)\u001b[49m\n",
      "File \u001b[1;32m~\\anaconda3\\envs\\rec-sys\\lib\\site-packages\\implicit\\cpu\\matrix_factorization_base.py:45\u001b[0m, in \u001b[0;36mMatrixFactorizationBase.recommend\u001b[1;34m(self, userid, user_items, N, filter_already_liked_items, filter_items, recalculate_user, items)\u001b[0m\n\u001b[0;32m     43\u001b[0m     user_count \u001b[38;5;241m=\u001b[39m \u001b[38;5;241m1\u001b[39m \u001b[38;5;28;01mif\u001b[39;00m np\u001b[38;5;241m.\u001b[39misscalar(userid) \u001b[38;5;28;01melse\u001b[39;00m \u001b[38;5;28mlen\u001b[39m(userid)\n\u001b[0;32m     44\u001b[0m     \u001b[38;5;28;01mif\u001b[39;00m user_items\u001b[38;5;241m.\u001b[39mshape[\u001b[38;5;241m0\u001b[39m] \u001b[38;5;241m!=\u001b[39m user_count:\n\u001b[1;32m---> 45\u001b[0m         \u001b[38;5;28;01mraise\u001b[39;00m \u001b[38;5;167;01mValueError\u001b[39;00m(\u001b[38;5;124m\"\u001b[39m\u001b[38;5;124muser_items must contain 1 row for every user in userids\u001b[39m\u001b[38;5;124m\"\u001b[39m)\n\u001b[0;32m     47\u001b[0m user \u001b[38;5;241m=\u001b[39m \u001b[38;5;28mself\u001b[39m\u001b[38;5;241m.\u001b[39m_user_factor(userid, user_items, recalculate_user)\n\u001b[0;32m     49\u001b[0m item_factors \u001b[38;5;241m=\u001b[39m \u001b[38;5;28mself\u001b[39m\u001b[38;5;241m.\u001b[39mitem_factors\n",
      "\u001b[1;31mValueError\u001b[0m: user_items must contain 1 row for every user in userids"
     ]
    }
   ],
   "source": [
    "als_model.recommend(0, purchase_sparse, N=200)"
   ]
  },
  {
   "cell_type": "code",
   "execution_count": 24,
   "id": "dd8a1190-916e-4a06-a0f8-a550cd30181e",
   "metadata": {},
   "outputs": [
    {
     "data": {
      "text/plain": [
       "<53382x10000 sparse matrix of type '<class 'numpy.float64'>'\n",
       "\twith 386446 stored elements in Compressed Sparse Row format>"
      ]
     },
     "execution_count": 24,
     "metadata": {},
     "output_type": "execute_result"
    }
   ],
   "source": [
    "purchase_sparse"
   ]
  },
  {
   "cell_type": "code",
   "execution_count": null,
   "id": "bf1a1657-b4f9-41f3-9bd6-a3dbb68a77bb",
   "metadata": {},
   "outputs": [],
   "source": [
    "\n"
   ]
  }
 ],
 "metadata": {
  "kernelspec": {
   "display_name": "Python 3 (ipykernel)",
   "language": "python",
   "name": "python3"
  },
  "language_info": {
   "codemirror_mode": {
    "name": "ipython",
    "version": 3
   },
   "file_extension": ".py",
   "mimetype": "text/x-python",
   "name": "python",
   "nbconvert_exporter": "python",
   "pygments_lexer": "ipython3",
   "version": "3.8.0"
  }
 },
 "nbformat": 4,
 "nbformat_minor": 5
}
